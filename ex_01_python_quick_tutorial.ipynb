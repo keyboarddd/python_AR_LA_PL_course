print("Hello everybody!")
print("_"*50)
print("这是一个编程作业！")

print("加：",48+86) #打印简单的运算
print("减：",83-34)
print("乘：",8*8)
print("除："7/8)
print("整除：", 5//2)
print("余数：", 5%2)
print("幂：",2**10)

lst_1=list(range(3,26,5)) #建立列表。range(start,stop,[,step])建立区间。
print(lst_1)
print("The list length={}".format(len(lst_1)))
print("Maximum value={}".format(max(lst_1)))
print("Minimum value={}".format(min(lst_1)))

lst_2=list(map(chr,range(100,110)))
print(lst_2)
print("[2:4]->{}".format(lst_2[2:4]))
print("[-4:-2]->{}".format(lst_2[-4:-2]))
print("[-4:]->{}".format(lst_2[-4:]))
print("[:4]->{}".format(lst_2[:4]))
print("[:]->{}".format(lst_2[:]))

help(print)
help（）函数用于获取指定模块，类，函数，变量等的文档。此方法通常与python解释器控制台一起使用，以获取有关python对象的详细信息。

print(lst_s)
print("[0:7:3]->{}".format(lst_s[0:7:3]))
print("[::5]->{}".format(lst_s[::5]))
print("[7:5:-1]->{}".format(lst_s[7:5:-1]))
print("[15:2:-1]->{}".format(lst_s[15:2:-1]))
print("[5::-1]->{}".format(lst_s[5::-1]))
print("[:5:-1]->{}".format(lst_s[:5:-1]))

tuple_1=1,2,3,
print("tuple((1,2,3,))->{}".format(tuple((1,2,3,)))) #用()
print("tuple([1,2,3,])->{}".format(tuple([1,2,3,]))) #用[]
元组不能够修改，但是可以提取项值

lst_1=list("Hello Python!")->['H', 'e', 'l', 'l', 'o', ' ', 'P', 'y', 't', 'h', 'o', 'n', '!']
"Hellow"+" Python!"->Hellow Python!
join(str(13579))->1+3+5+7+9
len("Hellow Python!")->14
"Hello Python!".lower()->hello python!
小写
"Hello Python!".upper()->HELLO PYTHON!
大写
"Hello Python!"[6:]->Python!
后六个字符内容
"    Hello Python!    ".strip()->Hello Python!
"Hello Python!".replace("Python","Kitty")->Hello Kitty!
替换
"Hello Python!".find("Py")->6
寻找位置

format_str="Hello,%s and %s!"
values=("葫芦娃","爷爷")
new_str=format_str % values
print("new_str=format_str % values->{}".format(new_str))

format_str_2="Pi with three decimals:%.3f,and enter a value with percent sign:%.2f %%" #如果字符串里包含实际的%，则通过%%即两个百分号进行转义

"re.findall('[Py]*thon!','Hello Python!'{}".format(re.findall('[Py]*thon!','Hello Python!'))
"re.findall('[Py]*thon!','Hello Pthon!')->{}".format(re.findall('[Py]*thon!','Hello Pthon!'))
"re.findall('[Py]*thon!','Hello ython!')->{}".format(re.findall('[Py]*thon!','Hello ython!'))
"re.findall('[Py]*thon!','Hello ython!')->{}".format(re.findall('[Py]*thon!','Hello thon!'))


lst_1=list(range(20,30,3))
for i in lst_1:
    print(i)
for i in range(len(lst_1))
    idx={},val={}.format(i,lst_1[i])

dic_4=dict(a=1,b=2,c=3,d=4)
"dic_4={}".format(dic_4))
for k in dic_4:
    print(k)
for k,v in dic_4.items():
    "key={},val={}".format(k,v)

x=1
while x<=10:
    print("x={}".format(x))
    x=x+1

x=1
while x<=100:
    print("x={}".format(x))
    x=x+1
    if x>=60:break    
循环语句    

import sys
print("sys.maxsize={}".format(sys.maxsize))
for i in range(sys.maxsize):
    print("i={}".format(i))  #?
    i+=10
    if i>=40:break

lst_a=[0,1,2,3]
lst_b=['第一','第二','第三','第四']
zip_lst=zip(lst_a,lst_b) #The zip() function takes iterables (can be zero or more), aggregates them in a tuple, and returns it.
print("zip_lst=zip(lst_a,lst_b)->{}".format(zip_lst))
print("dict(zip_lst)->{}".format(dict(zip_lst)))

zip_lst=zip(lst_a,lst_b) #迭代对象临时存储，读取完后为空
for a,b in zip_lst:
    print(a,b)
    
zip_lst=zip(lst_a,lst_b)
a,b=zip(*zip_lst)
print("a={},b={}".format(a,b))

lst_c=['point_a','point_b','point_c','point_d']
dic_4={}
for idx,value in enumerate(lst_c):
    dic_4[idx]=value
for i,(a,b) in enumerate(zip(lst_a,lst_b)):
    print('%d:%s,%s'%(i,a,b))

x=10
if x<0:
    print('它比0小')
elif x==0:
    print('它跟0一样大')
elif 0<x<10:
    print('它大于0小于10')
else:
    print('它大于等于10')
判断条件输出语句

x=y=[3,6,9]
z=[3,6,9]
print("x==y->{}".format(x==y))
print("x is y->{}".format(x is y))
print("x==z->{}".format(x==z))
print("x is z->{}".format(x is z))
print("x is not y->{}".format(x is not y))
print("x is not z->{}".format(x is not z))
print("id_x:{};id_y:{};id_z:{}".format(id(x),id(y),id(z))) #Memory Location

del x[2]
print("x={},y={},z={} after del x[2]".format(x,y,z))
通过xyz的比较，判断语句的正确和错误

a,b,c=0,5,10
if c>a and c<b:
    print('a<c<b')
else: print('a<c<b 开玩笑呢!!!')

class Fibs():
    def __init__(self):
        self.a=0
        self.b=1
    def next(self):  #实现迭代器的next方法
        self.a,self.b=self.b,self.a+self.b
        return self.a
    def __iter__(self): #实现迭代方法
        return self

def flatten(lst): 
    try:        
        for n_lst in lst:       
            for m in flatten(n_lst):             
                yield m 
    except TypeError:  
        yield lst     
        
        
print("list(flatten(lst_e))->{}".format(list(flatten(lst_e))))


flatten_lst=lambda lst:[m for n_lst in lst for m in flatten_lst[n_lst]] if type(lst) is list else [lst] #lambda 生成器方法


def infinite():
    n=0
    while True:
        yield 'num#'+str(n)
        n+=1
        
        
n=infinite()
print("next(n)->{}".format(next(n)))
print("next(n)->{}".format(next(n)))
print("next(n)->{}".format(next(n)))
print("[next(n) for i in range(5)]->{}".format([next(n) for i in range(5)]))


n=3
print("[[(2*pi*(2*(u/(n-1))-1),2*pi*(2*(v/(n-1))-1)) for u in range(n)] for v in range(n)]->{}".format([[(2*pi*(2*(u/(n-1))-1),2*pi*(2*(v/(n-1))-1)) for u in range(n)] for v in range(n)]))
print("_"*50)
print("([(2*pi*(2*(u/(n-1))-1),2*pi*(2*(v/(n-1))-1)) for u in range(n)] for v in range(n))->{}".format(([(2*pi*(2*(u/(n-1))-1),2*pi*(2*(v/(n-1))-1)) for u in range(n)] for v in range(n))))
gen=([(2*pi*(2*(u/(n-1))-1),2*pi*(2*(v/(n-1))-1)) for u in range(n)] for v in range(n))
print("next(gen)->{}".format(next(gen)))
print("next(gen)->{}".format(next(gen)))


def f_convert_a(x):
    try:
        return float(x)
    except:
        return x
print("f_convert_a('3.1415')->{}".format(f_convert_a('3.1415')))    
print("f_convert_a('string')->{}".format(f_convert_a('string')))  
print("f_convert_a(3,6,7)->{}".format(f_convert_a((3,6,7))))
                                                   

                                                   
def f_convert_b(x):
    try:
        return float(x)
    except ValueError:
        return x
print("f_convert_b('3.1415')->{}".format(f_convert_b('3.1415')))    
print("f_convert_b('string')->{}".format(f_convert_b('string')))  
print("f_convert_b(3,6,7)->{}".format(f_convert_b((3,6,7))))  


def f_convert_c(x):
    try:
        return float(x)
    except ValueError:
        return x
    except TypeError:
        print(x,'TypeError')
print("f_convert_c('3.1415')->{}".format(f_convert_c('3.1415')))    
print("f_convert_c('string')->{}".format(f_convert_c('string')))  
print("f_convert_c(3,6,7)->{}".format(f_convert_c((3,6,7))))         


def f_convert_d(x):
    try:
        return float(x)
    except (ValueError,TypeError):
        print(x,'ValueError or TypeError')
print("f_convert_d('3.1415')->{}".format(f_convert_d('3.1415')))    
print("f_convert_d('string')->{}".format(f_convert_d('string')))  
print("f_convert_d(3,6,7)->{}".format(f_convert_d((3,6,7)))) 


def f_convert_e(x):
    try:
        return float(x)
    except (ValueError,TypeError) as e:
        return print(x,e)
print("f_convert_e('3.1415')->{}".format(f_convert_e('3.1415')))    
print("f_convert_e('string')->{}".format(f_convert_e('string')))  
print("f_convert_e(3,6,7)->{}".format(f_convert_e((3,6,7))))    


def f_convert_f(x):
    try:
        return float(x)
    except (ValueError,TypeError) as e:
        pass
print("f_convert_f('3.1415')->{}".format(f_convert_f('3.1415')))    
print("f_convert_f('string')->{}".format(f_convert_f('string')))  
print("f_convert_f(3,6,7)->{}".format(f_convert_f((3,6,7))))     


def f_open_a(fp):
    try:
        f=open(fp,'r')
    except IOError as e:
        print('Unable to open',fp,':%s\n' %e)
    else:
        data=f.read()
        f.close
        return data
tryException_content=f_open_a("./data/tryException.txt")   
print("tryException_content->{}".format(tryException_content))
f_open_a("./data/tryException_.txt")

def f_open_b(fp):
    try:
        f=open(fp,'r')
    except IOError as e:
        print('Unable to open',fp,':%s\n' %e)
    else:
        data=f.read()
        f.close()
        return data
    finally:
        print('done!')
f_open_b("./data/tryException.txt")      


x=20
assert x>0 
assert x<0

