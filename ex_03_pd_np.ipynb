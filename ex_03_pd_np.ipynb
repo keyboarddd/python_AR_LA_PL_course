print("Hello everybody!")
print("_"*50)
print("这是一个pandas的自学笔记")#pandas需要先读取表格类型的数据，然后进行分析
import pandas as pd
import numpy as np
print("读取纯文本文件")
fpath ="C:/Users/HP/Documents/GitHub/ant-learn-pandas/datas/ml-latest-small/ratings.csv"
#使用pd。read_csv读取数据
ratings = pd.read_csv(fpath)
#查看前几行数据
ratings.head()
#查看数据的形状，返回（行数、列数）
ratings.shape
#查看列名列表
ratings.columns
#查看索引列
ratings.index
#查看每列的数据类型
ratings.dtypes

print（“读取txt文件”，自己指定分割符、列名）
fpath =""
pvuv =pd.read_csv(
    fpath
    sep="\t"
    header=None
    names=['pdate','pv','uv']
)
    
print("读取excel文件")
fpath =""
pvuv =pd.read_excel(fpath)

print("读取MySQL数据库")
import pymysql
conn =pymysql.connect(
    host='127.0.0.1',
    user='root',
    password='12345678',
    database='test',
    charset='utf8'
)
mysql_page = pd.read_sql("select * from crazyant_pvuv",con=conn)

sl = pd.Series([1,2,'d',34,'是的'])
#左侧是索引，右侧是数据
sl
#获取索引
sl.index
#获取数据
sl.values

df = pd.read_csv("")
df.head()
df.set_index('ymd',inplace=True)

print("numpy的学习")
import numpy as np
np.array([1,2,3,4,5,6,7,8,9])
a = np.array
a.shape
np.ones((2,4))
np.arrange(2,5)
np.linspace(0,1,5)
np.random.rand(2,4)
a = a.astype(int)
#相同尺寸的数组可以直接进行四则运算，@符号可以进行矩阵的乘法运算
np.sqrt(a)
np.sin(a)
np.log(a)
np.power(a)
a.min()
a.max()
a.argmin()
a.argmax()
a.sum()
a.mean()
a.median()
#返回数据的方差和标准方差
a.var()
a.std()
#获取第一行第二列的元素
a[0,1]
#与运算符用&表示，或运算用竖线|表示
a[(a > 3) & (a % 2 == 0) ]
a[::-1]

#图片转换
from PIL import Image
im = Image.open('')
im.show()
im = np.array(im)
#取点
im[100,100]
